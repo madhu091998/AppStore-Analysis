{
 "cells": [
  {
   "cell_type": "markdown",
   "metadata": {},
   "source": [
    "## ANALYSIS OF APPS IN APPLE iOS APP STORE \n",
    "\n",
    "\n",
    "If you are buying a smartphone, chances are that it will run one of the two operating systems: Apple's iOS or Google's android. The most useful tool/app is playstore for android and appstore for Apple. There are about 2.5 million android apps and 1.8 million iOS apps. Analyzing the apps' statistics helps developers to find the right characteristics their app should have to achieve maximum number of downloads.\n",
    "\n",
    "I'll be analyzing appstore apps using the appleStore.csv [dataset](https://www.kaggle.com/ramamet4/app-store-apple-data-set-10k-apps/download) from [Kaggle](https://www.kaggle.com/). My goal is to load, clean and visualize appstore data to understand the iOS app market\n",
    "\n",
    "### appleStore.csv\n",
    "\n",
    "This dataset contains 16 columns\n",
    "1. \"id\" : App ID\n",
    "2. \"track_name\": App Name\n",
    "3. \"size_bytes\": Size (in Bytes)\n",
    "4. \"currency\": Currency Type\n",
    "5. \"price\": Price amount\n",
    "6. \"ratingcounttot\": User Rating counts (for all version)\n",
    "7. \"ratingcountver\": User Rating counts (for current version)\n",
    "8. \"user_rating\" : Average User Rating value (for all version)\n",
    "9. \"userratingver\": Average User Rating value (for current version)\n",
    "10. \"ver\" : Latest version code\n",
    "11. \"cont_rating\": Content Rating\n",
    "12. \"prime_genre\": Primary Genre\n",
    "13. \"sup_devices.num\": Number of supporting devices\n",
    "14. \"ipadSc_urls.num\": Number of screenshots showed for display\n",
    "15. \"lang.num\": Number of supported languages\n",
    "16. \"vpp_lic\": Vpp Device Based Licensing Enabled\n",
    "\n"
   ]
  },
  {
   "cell_type": "code",
   "execution_count": 1,
   "metadata": {},
   "outputs": [
    {
     "data": {
      "text/html": [
       "        <script type=\"text/javascript\">\n",
       "        window.PlotlyConfig = {MathJaxConfig: 'local'};\n",
       "        if (window.MathJax) {MathJax.Hub.Config({SVG: {font: \"STIX-Web\"}});}\n",
       "        if (typeof require !== 'undefined') {\n",
       "        require.undef(\"plotly\");\n",
       "        requirejs.config({\n",
       "            paths: {\n",
       "                'plotly': ['https://cdn.plot.ly/plotly-latest.min']\n",
       "            }\n",
       "        });\n",
       "        require(['plotly'], function(Plotly) {\n",
       "            window._Plotly = Plotly;\n",
       "        });\n",
       "        }\n",
       "        </script>\n",
       "        "
      ]
     },
     "metadata": {},
     "output_type": "display_data"
    }
   ],
   "source": [
    "#Loading necessary packages\n",
    "import pandas as pd\n",
    "import numpy as np\n",
    "import matplotlib.pyplot as plt\n",
    "\n",
    "#Installing plotly\n",
    "#Run the following on command prompt solved my issue.\n",
    "#conda install -c https://conda.anaconda.org/plotly plotly. \n",
    "\n",
    "import plotly\n",
    "from plotly.offline import init_notebook_mode\n",
    "init_notebook_mode(connected = True)\n",
    "import plotly.graph_objs as go"
   ]
  },
  {
   "cell_type": "code",
   "execution_count": 2,
   "metadata": {},
   "outputs": [],
   "source": [
    "#Reading in dataset\n",
    "app_store = pd.read_csv(\"appleStore.csv\",index_col=0) "
   ]
  },
  {
   "cell_type": "code",
   "execution_count": 3,
   "metadata": {},
   "outputs": [
    {
     "name": "stdout",
     "output_type": "stream",
     "text": [
      "Number of duplicates in app_store =  0\n",
      "Number of apps =  7197\n"
     ]
    }
   ],
   "source": [
    "#Checking for presence of duplicates\n",
    "print(\"Number of duplicates in app_store = \",app_store.duplicated().sum())\n",
    "print(\"Number of apps = \",app_store.shape[0])"
   ]
  },
  {
   "cell_type": "markdown",
   "metadata": {},
   "source": [
    "There are no duplicated rows and the total number of apps in the dataset is 7197."
   ]
  },
  {
   "cell_type": "code",
   "execution_count": 4,
   "metadata": {},
   "outputs": [
    {
     "name": "stdout",
     "output_type": "stream",
     "text": [
      "APP_STORE\n",
      "\n",
      "<class 'pandas.core.frame.DataFrame'>\n",
      "Int64Index: 7197 entries, 1 to 11097\n",
      "Data columns (total 16 columns):\n",
      "id                  7197 non-null int64\n",
      "track_name          7197 non-null object\n",
      "size_bytes          7197 non-null int64\n",
      "currency            7197 non-null object\n",
      "price               7197 non-null float64\n",
      "rating_count_tot    7197 non-null int64\n",
      "rating_count_ver    7197 non-null int64\n",
      "user_rating         7197 non-null float64\n",
      "user_rating_ver     7197 non-null float64\n",
      "ver                 7197 non-null object\n",
      "cont_rating         7197 non-null object\n",
      "prime_genre         7197 non-null object\n",
      "sup_devices.num     7197 non-null int64\n",
      "ipadSc_urls.num     7197 non-null int64\n",
      "lang.num            7197 non-null int64\n",
      "vpp_lic             7197 non-null int64\n",
      "dtypes: float64(3), int64(8), object(5)\n",
      "memory usage: 955.9+ KB\n",
      "\n",
      "APP_STORE\n",
      "\n"
     ]
    },
    {
     "data": {
      "text/html": [
       "<div>\n",
       "<style scoped>\n",
       "    .dataframe tbody tr th:only-of-type {\n",
       "        vertical-align: middle;\n",
       "    }\n",
       "\n",
       "    .dataframe tbody tr th {\n",
       "        vertical-align: top;\n",
       "    }\n",
       "\n",
       "    .dataframe thead th {\n",
       "        text-align: right;\n",
       "    }\n",
       "</style>\n",
       "<table border=\"1\" class=\"dataframe\">\n",
       "  <thead>\n",
       "    <tr style=\"text-align: right;\">\n",
       "      <th></th>\n",
       "      <th>id</th>\n",
       "      <th>track_name</th>\n",
       "      <th>size_bytes</th>\n",
       "      <th>currency</th>\n",
       "      <th>price</th>\n",
       "      <th>rating_count_tot</th>\n",
       "      <th>rating_count_ver</th>\n",
       "      <th>user_rating</th>\n",
       "      <th>user_rating_ver</th>\n",
       "      <th>ver</th>\n",
       "      <th>cont_rating</th>\n",
       "      <th>prime_genre</th>\n",
       "      <th>sup_devices.num</th>\n",
       "      <th>ipadSc_urls.num</th>\n",
       "      <th>lang.num</th>\n",
       "      <th>vpp_lic</th>\n",
       "    </tr>\n",
       "  </thead>\n",
       "  <tbody>\n",
       "    <tr>\n",
       "      <td>51</td>\n",
       "      <td>293523031</td>\n",
       "      <td>Sonos Controller</td>\n",
       "      <td>107983872</td>\n",
       "      <td>USD</td>\n",
       "      <td>0.00</td>\n",
       "      <td>48905</td>\n",
       "      <td>2691</td>\n",
       "      <td>4.5</td>\n",
       "      <td>4.5</td>\n",
       "      <td>7.2</td>\n",
       "      <td>4+</td>\n",
       "      <td>Music</td>\n",
       "      <td>37</td>\n",
       "      <td>4</td>\n",
       "      <td>12</td>\n",
       "      <td>1</td>\n",
       "    </tr>\n",
       "    <tr>\n",
       "      <td>3384</td>\n",
       "      <td>901722848</td>\n",
       "      <td>Find my Fitbit - Finder app for lost fitbits</td>\n",
       "      <td>23547904</td>\n",
       "      <td>USD</td>\n",
       "      <td>5.99</td>\n",
       "      <td>2007</td>\n",
       "      <td>116</td>\n",
       "      <td>4.0</td>\n",
       "      <td>4.5</td>\n",
       "      <td>2.6.2</td>\n",
       "      <td>4+</td>\n",
       "      <td>Health &amp; Fitness</td>\n",
       "      <td>37</td>\n",
       "      <td>5</td>\n",
       "      <td>1</td>\n",
       "      <td>1</td>\n",
       "    </tr>\n",
       "    <tr>\n",
       "      <td>4765</td>\n",
       "      <td>1001286466</td>\n",
       "      <td>Minecraft: Story Mode</td>\n",
       "      <td>1089228800</td>\n",
       "      <td>USD</td>\n",
       "      <td>0.00</td>\n",
       "      <td>20621</td>\n",
       "      <td>6745</td>\n",
       "      <td>4.0</td>\n",
       "      <td>4.5</td>\n",
       "      <td>1.6</td>\n",
       "      <td>9+</td>\n",
       "      <td>Games</td>\n",
       "      <td>38</td>\n",
       "      <td>4</td>\n",
       "      <td>1</td>\n",
       "      <td>1</td>\n",
       "    </tr>\n",
       "    <tr>\n",
       "      <td>1453</td>\n",
       "      <td>514205253</td>\n",
       "      <td>Majiang Mahjong（单机+川麻+二人+武汉+国标）</td>\n",
       "      <td>74442752</td>\n",
       "      <td>USD</td>\n",
       "      <td>0.00</td>\n",
       "      <td>1007</td>\n",
       "      <td>3</td>\n",
       "      <td>5.0</td>\n",
       "      <td>2.5</td>\n",
       "      <td>3.762</td>\n",
       "      <td>12+</td>\n",
       "      <td>Games</td>\n",
       "      <td>43</td>\n",
       "      <td>5</td>\n",
       "      <td>1</td>\n",
       "      <td>1</td>\n",
       "    </tr>\n",
       "    <tr>\n",
       "      <td>2759</td>\n",
       "      <td>769737983</td>\n",
       "      <td>Bowling King</td>\n",
       "      <td>174499840</td>\n",
       "      <td>USD</td>\n",
       "      <td>0.00</td>\n",
       "      <td>60271</td>\n",
       "      <td>114</td>\n",
       "      <td>4.5</td>\n",
       "      <td>4.0</td>\n",
       "      <td>1.40.23</td>\n",
       "      <td>4+</td>\n",
       "      <td>Games</td>\n",
       "      <td>38</td>\n",
       "      <td>4</td>\n",
       "      <td>1</td>\n",
       "      <td>1</td>\n",
       "    </tr>\n",
       "  </tbody>\n",
       "</table>\n",
       "</div>"
      ],
      "text/plain": [
       "              id                                    track_name  size_bytes  \\\n",
       "51     293523031                              Sonos Controller   107983872   \n",
       "3384   901722848  Find my Fitbit - Finder app for lost fitbits    23547904   \n",
       "4765  1001286466                         Minecraft: Story Mode  1089228800   \n",
       "1453   514205253               Majiang Mahjong（单机+川麻+二人+武汉+国标）    74442752   \n",
       "2759   769737983                                  Bowling King   174499840   \n",
       "\n",
       "     currency  price  rating_count_tot  rating_count_ver  user_rating  \\\n",
       "51        USD   0.00             48905              2691          4.5   \n",
       "3384      USD   5.99              2007               116          4.0   \n",
       "4765      USD   0.00             20621              6745          4.0   \n",
       "1453      USD   0.00              1007                 3          5.0   \n",
       "2759      USD   0.00             60271               114          4.5   \n",
       "\n",
       "      user_rating_ver      ver cont_rating       prime_genre  sup_devices.num  \\\n",
       "51                4.5      7.2          4+             Music               37   \n",
       "3384              4.5    2.6.2          4+  Health & Fitness               37   \n",
       "4765              4.5      1.6          9+             Games               38   \n",
       "1453              2.5    3.762         12+             Games               43   \n",
       "2759              4.0  1.40.23          4+             Games               38   \n",
       "\n",
       "      ipadSc_urls.num  lang.num  vpp_lic  \n",
       "51                  4        12        1  \n",
       "3384                5         1        1  \n",
       "4765                4         1        1  \n",
       "1453                5         1        1  \n",
       "2759                4         1        1  "
      ]
     },
     "execution_count": 4,
     "metadata": {},
     "output_type": "execute_result"
    }
   ],
   "source": [
    "#Concise summary of the dataframes\n",
    "print(\"APP_STORE\\n\")\n",
    "app_store.info()\n",
    "\n",
    "\n",
    "#Random sample of n rows\n",
    "n=5\n",
    "print(\"\\nAPP_STORE\\n\")\n",
    "app_store.sample(n)\n",
    "\n"
   ]
  },
  {
   "cell_type": "markdown",
   "metadata": {},
   "source": [
    "### DATA CLEANING\n",
    "\n",
    "The columns i'll be working with are id, track_name, size_bytes, currency, price, rating_count_tot, user_rating, prime_genre. So, for simplicity, i'll be removing the other columns from the dataframe.\n"
   ]
  },
  {
   "cell_type": "code",
   "execution_count": 5,
   "metadata": {},
   "outputs": [],
   "source": [
    "#Dropping columns\n",
    "app_store.drop(columns=[\"rating_count_ver\",\"user_rating_ver\",\"ver\",\"sup_devices.num\",\"ipadSc_urls.num\",\"lang.num\",\"vpp_lic\"],inplace=True)"
   ]
  },
  {
   "cell_type": "code",
   "execution_count": 6,
   "metadata": {},
   "outputs": [],
   "source": [
    "#Converting the size column from bytes to Mega Bytes\n",
    "app_store[\"size_bytes\"] = app_store[\"size_bytes\"].apply(lambda x : x/(1024*1024))\n"
   ]
  },
  {
   "cell_type": "code",
   "execution_count": 7,
   "metadata": {},
   "outputs": [],
   "source": [
    "#Rounding the column values to two decimal places\n",
    "app_store[\"size_bytes\"] = app_store[\"size_bytes\"].round(decimals=2)\n",
    "\n",
    "#Renaming the column\n",
    "app_store.rename(columns={\"size_bytes\":\"size_MB\"},inplace=True)"
   ]
  },
  {
   "cell_type": "code",
   "execution_count": 8,
   "metadata": {},
   "outputs": [
    {
     "data": {
      "text/html": [
       "<div>\n",
       "<style scoped>\n",
       "    .dataframe tbody tr th:only-of-type {\n",
       "        vertical-align: middle;\n",
       "    }\n",
       "\n",
       "    .dataframe tbody tr th {\n",
       "        vertical-align: top;\n",
       "    }\n",
       "\n",
       "    .dataframe thead th {\n",
       "        text-align: right;\n",
       "    }\n",
       "</style>\n",
       "<table border=\"1\" class=\"dataframe\">\n",
       "  <thead>\n",
       "    <tr style=\"text-align: right;\">\n",
       "      <th></th>\n",
       "      <th>id</th>\n",
       "      <th>track_name</th>\n",
       "      <th>size_MB</th>\n",
       "      <th>currency</th>\n",
       "      <th>price</th>\n",
       "      <th>rating_count_tot</th>\n",
       "      <th>user_rating</th>\n",
       "      <th>cont_rating</th>\n",
       "      <th>prime_genre</th>\n",
       "    </tr>\n",
       "  </thead>\n",
       "  <tbody>\n",
       "    <tr>\n",
       "      <td>1</td>\n",
       "      <td>281656475</td>\n",
       "      <td>PAC-MAN Premium</td>\n",
       "      <td>96.12</td>\n",
       "      <td>USD</td>\n",
       "      <td>3.99</td>\n",
       "      <td>21292</td>\n",
       "      <td>4.0</td>\n",
       "      <td>4+</td>\n",
       "      <td>Games</td>\n",
       "    </tr>\n",
       "    <tr>\n",
       "      <td>2</td>\n",
       "      <td>281796108</td>\n",
       "      <td>Evernote - stay organized</td>\n",
       "      <td>151.23</td>\n",
       "      <td>USD</td>\n",
       "      <td>0.00</td>\n",
       "      <td>161065</td>\n",
       "      <td>4.0</td>\n",
       "      <td>4+</td>\n",
       "      <td>Productivity</td>\n",
       "    </tr>\n",
       "    <tr>\n",
       "      <td>3</td>\n",
       "      <td>281940292</td>\n",
       "      <td>WeatherBug - Local Weather, Radar, Maps, Alerts</td>\n",
       "      <td>95.87</td>\n",
       "      <td>USD</td>\n",
       "      <td>0.00</td>\n",
       "      <td>188583</td>\n",
       "      <td>3.5</td>\n",
       "      <td>4+</td>\n",
       "      <td>Weather</td>\n",
       "    </tr>\n",
       "    <tr>\n",
       "      <td>4</td>\n",
       "      <td>282614216</td>\n",
       "      <td>eBay: Best App to Buy, Sell, Save! Online Shop...</td>\n",
       "      <td>122.56</td>\n",
       "      <td>USD</td>\n",
       "      <td>0.00</td>\n",
       "      <td>262241</td>\n",
       "      <td>4.0</td>\n",
       "      <td>12+</td>\n",
       "      <td>Shopping</td>\n",
       "    </tr>\n",
       "    <tr>\n",
       "      <td>5</td>\n",
       "      <td>282935706</td>\n",
       "      <td>Bible</td>\n",
       "      <td>88.48</td>\n",
       "      <td>USD</td>\n",
       "      <td>0.00</td>\n",
       "      <td>985920</td>\n",
       "      <td>4.5</td>\n",
       "      <td>4+</td>\n",
       "      <td>Reference</td>\n",
       "    </tr>\n",
       "  </tbody>\n",
       "</table>\n",
       "</div>"
      ],
      "text/plain": [
       "          id                                         track_name  size_MB  \\\n",
       "1  281656475                                    PAC-MAN Premium    96.12   \n",
       "2  281796108                          Evernote - stay organized   151.23   \n",
       "3  281940292    WeatherBug - Local Weather, Radar, Maps, Alerts    95.87   \n",
       "4  282614216  eBay: Best App to Buy, Sell, Save! Online Shop...   122.56   \n",
       "5  282935706                                              Bible    88.48   \n",
       "\n",
       "  currency  price  rating_count_tot  user_rating cont_rating   prime_genre  \n",
       "1      USD   3.99             21292          4.0          4+         Games  \n",
       "2      USD   0.00            161065          4.0          4+  Productivity  \n",
       "3      USD   0.00            188583          3.5          4+       Weather  \n",
       "4      USD   0.00            262241          4.0         12+      Shopping  \n",
       "5      USD   0.00            985920          4.5          4+     Reference  "
      ]
     },
     "execution_count": 8,
     "metadata": {},
     "output_type": "execute_result"
    }
   ],
   "source": [
    "app_store.head()"
   ]
  },
  {
   "cell_type": "markdown",
   "metadata": {},
   "source": [
    "### EXPLORING APP GENRES\n",
    "I'll try to answer to the following questions\n",
    "1. Are there any genres that dominate tha App Store?\n",
    "2. Which genre has the most number of apps?\n",
    "3. Which genre has the fewest number of apps?\n"
   ]
  },
  {
   "cell_type": "code",
   "execution_count": 9,
   "metadata": {},
   "outputs": [
    {
     "name": "stdout",
     "output_type": "stream",
     "text": [
      "Number of unique genres =  23\n",
      "\n",
      "----------------------------\n",
      "Number of apps in each genre\n",
      "----------------------------\n",
      "\n",
      "Games                3862\n",
      "Entertainment         535\n",
      "Education             453\n",
      "Photo & Video         349\n",
      "Utilities             248\n",
      "Health & Fitness      180\n",
      "Productivity          178\n",
      "Social Networking     167\n",
      "Lifestyle             144\n",
      "Music                 138\n",
      "Shopping              122\n",
      "Sports                114\n",
      "Book                  112\n",
      "Finance               104\n",
      "Travel                 81\n",
      "News                   75\n",
      "Weather                72\n",
      "Reference              64\n",
      "Food & Drink           63\n",
      "Business               57\n",
      "Navigation             46\n",
      "Medical                23\n",
      "Catalogs               10\n",
      "Name: prime_genre, dtype: int64\n"
     ]
    }
   ],
   "source": [
    "#Number of unique categories\n",
    "n_genres = len(app_store[\"prime_genre\"].unique())\n",
    "print(\"Number of unique genres = \",n_genres)\n",
    "\n",
    "#Number of apps in each genre\n",
    "print(\"\\n----------------------------\\nNumber of apps in each genre\\n----------------------------\\n\")\n",
    "n_apps_genre = app_store[\"prime_genre\"].value_counts().sort_values(ascending=False)\n",
    "print(n_apps_genre)"
   ]
  },
  {
   "cell_type": "markdown",
   "metadata": {},
   "source": [
    "Most of the apps belong to the games genre and it dominates the market. Catalog contains least number of apps"
   ]
  },
  {
   "cell_type": "code",
   "execution_count": 10,
   "metadata": {},
   "outputs": [
    {
     "data": {
      "image/svg+xml": [
       "<svg class=\"main-svg\" xmlns=\"http://www.w3.org/2000/svg\" xmlns:xlink=\"http://www.w3.org/1999/xlink\" width=\"700\" height=\"450\" style=\"\" viewBox=\"0 0 700 450\"><rect x=\"0\" y=\"0\" width=\"700\" height=\"450\" style=\"fill: rgb(255, 255, 255); fill-opacity: 1;\"/><defs id=\"defs-3e6b54\"><g class=\"clips\"><clipPath id=\"clip3e6b54xyplot\" class=\"plotclip\"><rect width=\"540\" height=\"212\"/></clipPath><clipPath class=\"axesclip\" id=\"clip3e6b54x\"><rect x=\"80\" y=\"0\" width=\"540\" height=\"450\"/></clipPath><clipPath class=\"axesclip\" id=\"clip3e6b54y\"><rect x=\"0\" y=\"100\" width=\"700\" height=\"212\"/></clipPath><clipPath class=\"axesclip\" id=\"clip3e6b54xy\"><rect x=\"80\" y=\"100\" width=\"540\" height=\"212\"/></clipPath></g><g class=\"gradients\"/></defs><g class=\"bglayer\"><rect class=\"bg\" x=\"80\" y=\"100\" width=\"540\" height=\"212\" style=\"fill: rgb(245, 245, 245); fill-opacity: 1; stroke-width: 0;\"/></g><g class=\"layer-below\"><g class=\"imagelayer\"/><g class=\"shapelayer\"/></g><g class=\"cartesianlayer\"><g class=\"subplot xy\"><g class=\"layer-subplot\"><g class=\"shapelayer\"/><g class=\"imagelayer\"/></g><g class=\"gridlayer\"><g class=\"x\"><path class=\"xgrid crisp\" transform=\"translate(91.74,0)\" d=\"M0,100v212\" style=\"stroke: rgb(255, 255, 255); stroke-opacity: 1; stroke-width: 1px;\"/><path class=\"xgrid crisp\" transform=\"translate(115.22,0)\" d=\"M0,100v212\" style=\"stroke: rgb(255, 255, 255); stroke-opacity: 1; stroke-width: 1px;\"/><path class=\"xgrid crisp\" transform=\"translate(138.7,0)\" d=\"M0,100v212\" style=\"stroke: rgb(255, 255, 255); stroke-opacity: 1; stroke-width: 1px;\"/><path class=\"xgrid crisp\" transform=\"translate(162.17000000000002,0)\" d=\"M0,100v212\" style=\"stroke: rgb(255, 255, 255); stroke-opacity: 1; stroke-width: 1px;\"/><path class=\"xgrid crisp\" transform=\"translate(185.65,0)\" d=\"M0,100v212\" style=\"stroke: rgb(255, 255, 255); stroke-opacity: 1; stroke-width: 1px;\"/><path class=\"xgrid crisp\" transform=\"translate(209.13,0)\" d=\"M0,100v212\" style=\"stroke: rgb(255, 255, 255); stroke-opacity: 1; stroke-width: 1px;\"/><path class=\"xgrid crisp\" transform=\"translate(232.61,0)\" d=\"M0,100v212\" style=\"stroke: rgb(255, 255, 255); stroke-opacity: 1; stroke-width: 1px;\"/><path class=\"xgrid crisp\" transform=\"translate(256.09000000000003,0)\" d=\"M0,100v212\" style=\"stroke: rgb(255, 255, 255); stroke-opacity: 1; stroke-width: 1px;\"/><path class=\"xgrid crisp\" transform=\"translate(279.57,0)\" d=\"M0,100v212\" style=\"stroke: rgb(255, 255, 255); stroke-opacity: 1; stroke-width: 1px;\"/><path class=\"xgrid crisp\" transform=\"translate(303.03999999999996,0)\" d=\"M0,100v212\" style=\"stroke: rgb(255, 255, 255); stroke-opacity: 1; stroke-width: 1px;\"/><path class=\"xgrid crisp\" transform=\"translate(326.52,0)\" d=\"M0,100v212\" style=\"stroke: rgb(255, 255, 255); stroke-opacity: 1; stroke-width: 1px;\"/><path class=\"xgrid crisp\" transform=\"translate(350,0)\" d=\"M0,100v212\" style=\"stroke: rgb(255, 255, 255); stroke-opacity: 1; stroke-width: 1px;\"/><path class=\"xgrid crisp\" transform=\"translate(373.48,0)\" d=\"M0,100v212\" style=\"stroke: rgb(255, 255, 255); stroke-opacity: 1; stroke-width: 1px;\"/><path class=\"xgrid crisp\" transform=\"translate(396.96,0)\" d=\"M0,100v212\" style=\"stroke: rgb(255, 255, 255); stroke-opacity: 1; stroke-width: 1px;\"/><path class=\"xgrid crisp\" transform=\"translate(420.43,0)\" d=\"M0,100v212\" style=\"stroke: rgb(255, 255, 255); stroke-opacity: 1; stroke-width: 1px;\"/><path class=\"xgrid crisp\" transform=\"translate(443.91,0)\" d=\"M0,100v212\" style=\"stroke: rgb(255, 255, 255); stroke-opacity: 1; stroke-width: 1px;\"/><path class=\"xgrid crisp\" transform=\"translate(467.39,0)\" d=\"M0,100v212\" style=\"stroke: rgb(255, 255, 255); stroke-opacity: 1; stroke-width: 1px;\"/><path class=\"xgrid crisp\" transform=\"translate(490.87,0)\" d=\"M0,100v212\" style=\"stroke: rgb(255, 255, 255); stroke-opacity: 1; stroke-width: 1px;\"/><path class=\"xgrid crisp\" transform=\"translate(514.35,0)\" d=\"M0,100v212\" style=\"stroke: rgb(255, 255, 255); stroke-opacity: 1; stroke-width: 1px;\"/><path class=\"xgrid crisp\" transform=\"translate(537.8299999999999,0)\" d=\"M0,100v212\" style=\"stroke: rgb(255, 255, 255); stroke-opacity: 1; stroke-width: 1px;\"/><path class=\"xgrid crisp\" transform=\"translate(561.3,0)\" d=\"M0,100v212\" style=\"stroke: rgb(255, 255, 255); stroke-opacity: 1; stroke-width: 1px;\"/><path class=\"xgrid crisp\" transform=\"translate(584.78,0)\" d=\"M0,100v212\" style=\"stroke: rgb(255, 255, 255); stroke-opacity: 1; stroke-width: 1px;\"/><path class=\"xgrid crisp\" transform=\"translate(608.26,0)\" d=\"M0,100v212\" style=\"stroke: rgb(255, 255, 255); stroke-opacity: 1; stroke-width: 1px;\"/></g><g class=\"y\"><path class=\"ygrid crisp\" transform=\"translate(0,259.85)\" d=\"M80,0h540\" style=\"stroke: rgb(255, 255, 255); stroke-opacity: 1; stroke-width: 1px;\"/><path class=\"ygrid crisp\" transform=\"translate(0,207.7)\" d=\"M80,0h540\" style=\"stroke: rgb(255, 255, 255); stroke-opacity: 1; stroke-width: 1px;\"/><path class=\"ygrid crisp\" transform=\"translate(0,155.55)\" d=\"M80,0h540\" style=\"stroke: rgb(255, 255, 255); stroke-opacity: 1; stroke-width: 1px;\"/><path class=\"ygrid crisp\" transform=\"translate(0,103.4)\" d=\"M80,0h540\" style=\"stroke: rgb(255, 255, 255); stroke-opacity: 1; stroke-width: 1px;\"/></g></g><g class=\"zerolinelayer\"><path class=\"yzl zl crisp\" transform=\"translate(0,312)\" d=\"M80,0h540\" style=\"stroke: rgb(255, 255, 255); stroke-opacity: 1; stroke-width: 2px;\"/></g><path class=\"xlines-below\"/><path class=\"ylines-below\"/><g class=\"overlines-below\"/><g class=\"xaxislayer-below\"/><g class=\"yaxislayer-below\"/><g class=\"overaxes-below\"/><g class=\"plot\" transform=\"translate(80, 100)\" clip-path=\"url('#clip3e6b54xyplot')\"><g class=\"barlayer mlayer\"><g class=\"trace bars\" style=\"opacity: 1;\"><g class=\"points\"><g class=\"point\"><path d=\"M2.35,212V10.6H21.13V212Z\" style=\"vector-effect: non-scaling-stroke; opacity: 1; stroke-width: 0.5px; fill: rgb(64, 224, 208); fill-opacity: 1; stroke: rgb(229, 236, 246); stroke-opacity: 1;\"/></g><g class=\"point\"><path d=\"M25.83,212V184.1H44.61V212Z\" style=\"vector-effect: non-scaling-stroke; opacity: 1; stroke-width: 0.5px; fill: rgb(64, 224, 208); fill-opacity: 1; stroke: rgb(229, 236, 246); stroke-opacity: 1;\"/></g><g class=\"point\"><path d=\"M49.3,212V188.38H68.09V212Z\" style=\"vector-effect: non-scaling-stroke; opacity: 1; stroke-width: 0.5px; fill: rgb(64, 224, 208); fill-opacity: 1; stroke: rgb(229, 236, 246); stroke-opacity: 1;\"/></g><g class=\"point\"><path d=\"M72.78,212V193.8H91.57V212Z\" style=\"vector-effect: non-scaling-stroke; opacity: 1; stroke-width: 0.5px; fill: rgb(64, 224, 208); fill-opacity: 1; stroke: rgb(229, 236, 246); stroke-opacity: 1;\"/></g><g class=\"point\"><path d=\"M96.26,212V199.07H115.04V212Z\" style=\"vector-effect: non-scaling-stroke; opacity: 1; stroke-width: 0.5px; fill: rgb(64, 224, 208); fill-opacity: 1; stroke: rgb(229, 236, 246); stroke-opacity: 1;\"/></g><g class=\"point\"><path d=\"M119.74,212V202.61H138.52V212Z\" style=\"vector-effect: non-scaling-stroke; opacity: 1; stroke-width: 0.5px; fill: rgb(64, 224, 208); fill-opacity: 1; stroke: rgb(229, 236, 246); stroke-opacity: 1;\"/></g><g class=\"point\"><path d=\"M143.22,212V202.72H162V212Z\" style=\"vector-effect: non-scaling-stroke; opacity: 1; stroke-width: 0.5px; fill: rgb(64, 224, 208); fill-opacity: 1; stroke: rgb(229, 236, 246); stroke-opacity: 1;\"/></g><g class=\"point\"><path d=\"M166.7,212V203.29H185.48V212Z\" style=\"vector-effect: non-scaling-stroke; opacity: 1; stroke-width: 0.5px; fill: rgb(64, 224, 208); fill-opacity: 1; stroke: rgb(229, 236, 246); stroke-opacity: 1;\"/></g><g class=\"point\"><path d=\"M190.17,212V204.49H208.96V212Z\" style=\"vector-effect: non-scaling-stroke; opacity: 1; stroke-width: 0.5px; fill: rgb(64, 224, 208); fill-opacity: 1; stroke: rgb(229, 236, 246); stroke-opacity: 1;\"/></g><g class=\"point\"><path d=\"M213.65,212V204.8H232.43V212Z\" style=\"vector-effect: non-scaling-stroke; opacity: 1; stroke-width: 0.5px; fill: rgb(64, 224, 208); fill-opacity: 1; stroke: rgb(229, 236, 246); stroke-opacity: 1;\"/></g><g class=\"point\"><path d=\"M237.13,212V205.64H255.91V212Z\" style=\"vector-effect: non-scaling-stroke; opacity: 1; stroke-width: 0.5px; fill: rgb(64, 224, 208); fill-opacity: 1; stroke: rgb(229, 236, 246); stroke-opacity: 1;\"/></g><g class=\"point\"><path d=\"M260.61,212V206.05H279.39V212Z\" style=\"vector-effect: non-scaling-stroke; opacity: 1; stroke-width: 0.5px; fill: rgb(64, 224, 208); fill-opacity: 1; stroke: rgb(229, 236, 246); stroke-opacity: 1;\"/></g><g class=\"point\"><path d=\"M284.09,212V206.16H302.87V212Z\" style=\"vector-effect: non-scaling-stroke; opacity: 1; stroke-width: 0.5px; fill: rgb(64, 224, 208); fill-opacity: 1; stroke: rgb(229, 236, 246); stroke-opacity: 1;\"/></g><g class=\"point\"><path d=\"M307.57,212V206.58H326.35V212Z\" style=\"vector-effect: non-scaling-stroke; opacity: 1; stroke-width: 0.5px; fill: rgb(64, 224, 208); fill-opacity: 1; stroke: rgb(229, 236, 246); stroke-opacity: 1;\"/></g><g class=\"point\"><path d=\"M331.04,212V207.78H349.83V212Z\" style=\"vector-effect: non-scaling-stroke; opacity: 1; stroke-width: 0.5px; fill: rgb(64, 224, 208); fill-opacity: 1; stroke: rgb(229, 236, 246); stroke-opacity: 1;\"/></g><g class=\"point\"><path d=\"M354.52,212V208.09H373.3V212Z\" style=\"vector-effect: non-scaling-stroke; opacity: 1; stroke-width: 0.5px; fill: rgb(64, 224, 208); fill-opacity: 1; stroke: rgb(229, 236, 246); stroke-opacity: 1;\"/></g><g class=\"point\"><path d=\"M378,212V208.25H396.78V212Z\" style=\"vector-effect: non-scaling-stroke; opacity: 1; stroke-width: 0.5px; fill: rgb(64, 224, 208); fill-opacity: 1; stroke: rgb(229, 236, 246); stroke-opacity: 1;\"/></g><g class=\"point\"><path d=\"M401.48,212V208.66H420.26V212Z\" style=\"vector-effect: non-scaling-stroke; opacity: 1; stroke-width: 0.5px; fill: rgb(64, 224, 208); fill-opacity: 1; stroke: rgb(229, 236, 246); stroke-opacity: 1;\"/></g><g class=\"point\"><path d=\"M424.96,212V208.71H443.74V212Z\" style=\"vector-effect: non-scaling-stroke; opacity: 1; stroke-width: 0.5px; fill: rgb(64, 224, 208); fill-opacity: 1; stroke: rgb(229, 236, 246); stroke-opacity: 1;\"/></g><g class=\"point\"><path d=\"M448.43,212V209.03H467.22V212Z\" style=\"vector-effect: non-scaling-stroke; opacity: 1; stroke-width: 0.5px; fill: rgb(64, 224, 208); fill-opacity: 1; stroke: rgb(229, 236, 246); stroke-opacity: 1;\"/></g><g class=\"point\"><path d=\"M471.91,212V209.6H490.7V212Z\" style=\"vector-effect: non-scaling-stroke; opacity: 1; stroke-width: 0.5px; fill: rgb(64, 224, 208); fill-opacity: 1; stroke: rgb(229, 236, 246); stroke-opacity: 1;\"/></g><g class=\"point\"><path d=\"M495.39,212V210.8H514.17V212Z\" style=\"vector-effect: non-scaling-stroke; opacity: 1; stroke-width: 0.5px; fill: rgb(64, 224, 208); fill-opacity: 1; stroke: rgb(229, 236, 246); stroke-opacity: 1;\"/></g><g class=\"point\"><path d=\"M518.87,212V211.48H537.65V212Z\" style=\"vector-effect: non-scaling-stroke; opacity: 1; stroke-width: 0.5px; fill: rgb(64, 224, 208); fill-opacity: 1; stroke: rgb(229, 236, 246); stroke-opacity: 1;\"/></g></g></g></g></g><g class=\"overplot\"/><path class=\"xlines-above crisp\" d=\"M79,312.5H620\" style=\"fill: none; stroke-width: 1px; stroke: rgb(255, 255, 255); stroke-opacity: 1;\"/><path class=\"ylines-above crisp\" d=\"M79.5,100V312\" style=\"fill: none; stroke-width: 1px; stroke: rgb(255, 255, 255); stroke-opacity: 1;\"/><g class=\"overlines-above\"/><g class=\"xaxislayer-above\"><g class=\"xtick\"><text text-anchor=\"end\" x=\"0\" y=\"329.8\" transform=\"translate(91.74,0) rotate(-45,0,322.8)\" style=\"font-family: Rockwell; font-size: 14px; fill: rgb(42, 63, 95); fill-opacity: 1; white-space: pre;\">Games</text></g><g class=\"xtick\"><text text-anchor=\"end\" x=\"0\" y=\"329.8\" transform=\"translate(115.22,0) rotate(-45,0,322.8)\" style=\"font-family: Rockwell; font-size: 14px; fill: rgb(42, 63, 95); fill-opacity: 1; white-space: pre;\">Entertainment</text></g><g class=\"xtick\"><text text-anchor=\"end\" x=\"0\" y=\"329.8\" transform=\"translate(138.7,0) rotate(-45,0,322.8)\" style=\"font-family: Rockwell; font-size: 14px; fill: rgb(42, 63, 95); fill-opacity: 1; white-space: pre;\">Education</text></g><g class=\"xtick\"><text text-anchor=\"end\" x=\"0\" y=\"329.8\" transform=\"translate(162.17000000000002,0) rotate(-45,0,322.8)\" style=\"font-family: Rockwell; font-size: 14px; fill: rgb(42, 63, 95); fill-opacity: 1; white-space: pre;\">Photo &amp; Video</text></g><g class=\"xtick\"><text text-anchor=\"end\" x=\"0\" y=\"329.8\" transform=\"translate(185.65,0) rotate(-45,0,322.8)\" style=\"font-family: Rockwell; font-size: 14px; fill: rgb(42, 63, 95); fill-opacity: 1; white-space: pre;\">Utilities</text></g><g class=\"xtick\"><text text-anchor=\"end\" x=\"0\" y=\"329.8\" transform=\"translate(209.13,0) rotate(-45,0,322.8)\" style=\"font-family: Rockwell; font-size: 14px; fill: rgb(42, 63, 95); fill-opacity: 1; white-space: pre;\">Health &amp; Fitness</text></g><g class=\"xtick\"><text text-anchor=\"end\" x=\"0\" y=\"329.8\" transform=\"translate(232.61,0) rotate(-45,0,322.8)\" style=\"font-family: Rockwell; font-size: 14px; fill: rgb(42, 63, 95); fill-opacity: 1; white-space: pre;\">Productivity</text></g><g class=\"xtick\"><text text-anchor=\"end\" x=\"0\" y=\"329.8\" transform=\"translate(256.09000000000003,0) rotate(-45,0,322.8)\" style=\"font-family: Rockwell; font-size: 14px; fill: rgb(42, 63, 95); fill-opacity: 1; white-space: pre;\">Social Networking</text></g><g class=\"xtick\"><text text-anchor=\"end\" x=\"0\" y=\"329.8\" transform=\"translate(279.57,0) rotate(-45,0,322.8)\" style=\"font-family: Rockwell; font-size: 14px; fill: rgb(42, 63, 95); fill-opacity: 1; white-space: pre;\">Lifestyle</text></g><g class=\"xtick\"><text text-anchor=\"end\" x=\"0\" y=\"329.8\" transform=\"translate(303.03999999999996,0) rotate(-45,0,322.8)\" style=\"font-family: Rockwell; font-size: 14px; fill: rgb(42, 63, 95); fill-opacity: 1; white-space: pre;\">Music</text></g><g class=\"xtick\"><text text-anchor=\"end\" x=\"0\" y=\"329.8\" transform=\"translate(326.52,0) rotate(-45,0,322.8)\" style=\"font-family: Rockwell; font-size: 14px; fill: rgb(42, 63, 95); fill-opacity: 1; white-space: pre;\">Shopping</text></g><g class=\"xtick\"><text text-anchor=\"end\" x=\"0\" y=\"329.8\" transform=\"translate(350,0) rotate(-45,0,322.8)\" style=\"font-family: Rockwell; font-size: 14px; fill: rgb(42, 63, 95); fill-opacity: 1; white-space: pre;\">Sports</text></g><g class=\"xtick\"><text text-anchor=\"end\" x=\"0\" y=\"329.8\" transform=\"translate(373.48,0) rotate(-45,0,322.8)\" style=\"font-family: Rockwell; font-size: 14px; fill: rgb(42, 63, 95); fill-opacity: 1; white-space: pre;\">Book</text></g><g class=\"xtick\"><text text-anchor=\"end\" x=\"0\" y=\"329.8\" transform=\"translate(396.96,0) rotate(-45,0,322.8)\" style=\"font-family: Rockwell; font-size: 14px; fill: rgb(42, 63, 95); fill-opacity: 1; white-space: pre;\">Finance</text></g><g class=\"xtick\"><text text-anchor=\"end\" x=\"0\" y=\"329.8\" transform=\"translate(420.43,0) rotate(-45,0,322.8)\" style=\"font-family: Rockwell; font-size: 14px; fill: rgb(42, 63, 95); fill-opacity: 1; white-space: pre;\">Travel</text></g><g class=\"xtick\"><text text-anchor=\"end\" x=\"0\" y=\"329.8\" transform=\"translate(443.91,0) rotate(-45,0,322.8)\" style=\"font-family: Rockwell; font-size: 14px; fill: rgb(42, 63, 95); fill-opacity: 1; white-space: pre;\">News</text></g><g class=\"xtick\"><text text-anchor=\"end\" x=\"0\" y=\"329.8\" transform=\"translate(467.39,0) rotate(-45,0,322.8)\" style=\"font-family: Rockwell; font-size: 14px; fill: rgb(42, 63, 95); fill-opacity: 1; white-space: pre;\">Weather</text></g><g class=\"xtick\"><text text-anchor=\"end\" x=\"0\" y=\"329.8\" transform=\"translate(490.87,0) rotate(-45,0,322.8)\" style=\"font-family: Rockwell; font-size: 14px; fill: rgb(42, 63, 95); fill-opacity: 1; white-space: pre;\">Reference</text></g><g class=\"xtick\"><text text-anchor=\"end\" x=\"0\" y=\"329.8\" transform=\"translate(514.35,0) rotate(-45,0,322.8)\" style=\"font-family: Rockwell; font-size: 14px; fill: rgb(42, 63, 95); fill-opacity: 1; white-space: pre;\">Food &amp; Drink</text></g><g class=\"xtick\"><text text-anchor=\"end\" x=\"0\" y=\"329.8\" transform=\"translate(537.8299999999999,0) rotate(-45,0,322.8)\" style=\"font-family: Rockwell; font-size: 14px; fill: rgb(42, 63, 95); fill-opacity: 1; white-space: pre;\">Business</text></g><g class=\"xtick\"><text text-anchor=\"end\" x=\"0\" y=\"329.8\" transform=\"translate(561.3,0) rotate(-45,0,322.8)\" style=\"font-family: Rockwell; font-size: 14px; fill: rgb(42, 63, 95); fill-opacity: 1; white-space: pre;\">Navigation</text></g><g class=\"xtick\"><text text-anchor=\"end\" x=\"0\" y=\"329.8\" transform=\"translate(584.78,0) rotate(-45,0,322.8)\" style=\"font-family: Rockwell; font-size: 14px; fill: rgb(42, 63, 95); fill-opacity: 1; white-space: pre;\">Medical</text></g><g class=\"xtick\"><text text-anchor=\"end\" x=\"0\" y=\"329.8\" transform=\"translate(608.26,0) rotate(-45,0,322.8)\" style=\"font-family: Rockwell; font-size: 14px; fill: rgb(42, 63, 95); fill-opacity: 1; white-space: pre;\">Catalogs</text></g></g><g class=\"yaxislayer-above\"><g class=\"ytick\"><text text-anchor=\"end\" x=\"76.2\" y=\"4.8999999999999995\" transform=\"translate(0,312)\" style=\"font-family: Rockwell; font-size: 14px; fill: rgb(42, 63, 95); fill-opacity: 1; white-space: pre;\">0</text></g><g class=\"ytick\"><text text-anchor=\"end\" x=\"76.2\" y=\"4.8999999999999995\" transform=\"translate(0,259.85)\" style=\"font-family: Rockwell; font-size: 14px; fill: rgb(42, 63, 95); fill-opacity: 1; white-space: pre;\">1000</text></g><g class=\"ytick\"><text text-anchor=\"end\" x=\"76.2\" y=\"4.8999999999999995\" transform=\"translate(0,207.7)\" style=\"font-family: Rockwell; font-size: 14px; fill: rgb(42, 63, 95); fill-opacity: 1; white-space: pre;\">2000</text></g><g class=\"ytick\"><text text-anchor=\"end\" x=\"76.2\" y=\"4.8999999999999995\" transform=\"translate(0,155.55)\" style=\"font-family: Rockwell; font-size: 14px; fill: rgb(42, 63, 95); fill-opacity: 1; white-space: pre;\">3000</text></g><g class=\"ytick\"><text text-anchor=\"end\" x=\"76.2\" y=\"4.8999999999999995\" transform=\"translate(0,103.4)\" style=\"font-family: Rockwell; font-size: 14px; fill: rgb(42, 63, 95); fill-opacity: 1; white-space: pre;\">4000</text></g></g><g class=\"overaxes-above\"/></g></g><g class=\"polarlayer\"/><g class=\"ternarylayer\"/><g class=\"geolayer\"/><g class=\"funnelarealayer\"/><g class=\"pielayer\"/><g class=\"treemaplayer\"/><g class=\"sunburstlayer\"/><g class=\"glimages\"/><defs id=\"topdefs-3e6b54\"><g class=\"clips\"/></defs><g class=\"layer-above\"><g class=\"imagelayer\"/><g class=\"shapelayer\"/></g><g class=\"infolayer\"><g class=\"g-gtitle\"><text class=\"gtitle\" x=\"35\" y=\"50\" text-anchor=\"start\" dy=\"0em\" style=\"font-family: Rockwell; font-size: 25px; fill: rgb(42, 63, 95); opacity: 1; font-weight: normal; white-space: pre;\">APP GENRES</text></g><g class=\"g-xtitle\"><text class=\"xtitle\" x=\"350\" y=\"437.6102264404297\" text-anchor=\"middle\" style=\"font-family: Rockwell; font-size: 14px; fill: rgb(42, 63, 95); opacity: 1; font-weight: normal; white-space: pre;\">APP GENRE</text></g><g class=\"g-ytitle\"><text class=\"ytitle\" transform=\"rotate(-90,21.043750000000003,206)\" x=\"21.043750000000003\" y=\"206\" text-anchor=\"middle\" style=\"font-family: Rockwell; font-size: 14px; fill: rgb(42, 63, 95); opacity: 1; font-weight: normal; white-space: pre;\">NUMBER OF APPS</text></g></g></svg>"
      ]
     },
     "metadata": {},
     "output_type": "display_data"
    }
   ],
   "source": [
    "#Visualizing the data using plotly\n",
    "\n",
    "fig = go.Figure(data=[go.Bar(x = n_apps_genre.index, y = n_apps_genre.values,marker_color='turquoise')])\n",
    "\n",
    "\n",
    "fig.update_layout(\n",
    "    \n",
    "    title=\"APP GENRES\",\n",
    "    xaxis=dict(title=\"APP GENRE\",titlefont_size=14),\n",
    "    yaxis=dict(title=\"NUMBER OF APPS\",titlefont_size=14),\n",
    "    font=dict(\n",
    "        family=\"Rockwell\",\n",
    "        size=18,\n",
    "        \n",
    "    ),\n",
    "    plot_bgcolor=\"whitesmoke\"\n",
    ")\n",
    "fig.update_xaxes(tickangle=-45, tickfont=dict(family='Rockwell', size=14))\n",
    "fig.update_yaxes(tickfont=dict(family='Rockwell', size=14))\n",
    "\n",
    "\n",
    "fig.show(renderer=\"svg\")\n"
   ]
  },
  {
   "cell_type": "markdown",
   "metadata": {},
   "source": [
    "There are 23 unique genres present in the dataset. It is clear from the bar plot that games genre dominates the app Store. Entertainmenr, Education and Photo video are also some of the popular genres. The genre that is least popular/has least number of apps is Catalogs."
   ]
  },
  {
   "cell_type": "markdown",
   "metadata": {},
   "source": [
    "### ANALYZING THE RATINGS\n",
    "\n",
    "After having analyzed each genre and their market share, I'll move on to analyzing the average ratings. Rating ranges from 1 to 5 and it is one of the most important key performance indicators as it largely affects the brand image."
   ]
  },
  {
   "cell_type": "code",
   "execution_count": 11,
   "metadata": {},
   "outputs": [
    {
     "name": "stdout",
     "output_type": "stream",
     "text": [
      "Average Rating =  3.526955675976101\n"
     ]
    }
   ],
   "source": [
    "#Average rating\n",
    "avg_rating = app_store[\"user_rating\"].mean()\n",
    "print(\"Average Rating = \",avg_rating)"
   ]
  },
  {
   "cell_type": "code",
   "execution_count": 12,
   "metadata": {},
   "outputs": [
    {
     "data": {
      "image/svg+xml": [
       "<svg class=\"main-svg\" xmlns=\"http://www.w3.org/2000/svg\" xmlns:xlink=\"http://www.w3.org/1999/xlink\" width=\"700\" height=\"450\" style=\"\" viewBox=\"0 0 700 450\"><rect x=\"0\" y=\"0\" width=\"700\" height=\"450\" style=\"fill: rgb(255, 255, 255); fill-opacity: 1;\"/><defs id=\"defs-43354a\"><g class=\"clips\"><clipPath id=\"clip43354axyplot\" class=\"plotclip\"><rect width=\"540\" height=\"270\"/></clipPath><clipPath class=\"axesclip\" id=\"clip43354ax\"><rect x=\"80\" y=\"0\" width=\"540\" height=\"450\"/></clipPath><clipPath class=\"axesclip\" id=\"clip43354ay\"><rect x=\"0\" y=\"100\" width=\"700\" height=\"270\"/></clipPath><clipPath class=\"axesclip\" id=\"clip43354axy\"><rect x=\"80\" y=\"100\" width=\"540\" height=\"270\"/></clipPath></g><g class=\"gradients\"/></defs><g class=\"bglayer\"><rect class=\"bg\" x=\"80\" y=\"100\" width=\"540\" height=\"270\" style=\"fill: rgb(245, 245, 245); fill-opacity: 1; stroke-width: 0;\"/></g><g class=\"layer-below\"><g class=\"imagelayer\"/><g class=\"shapelayer\"/></g><g class=\"cartesianlayer\"><g class=\"subplot xy\"><g class=\"layer-subplot\"><g class=\"shapelayer\"/><g class=\"imagelayer\"/></g><g class=\"gridlayer\"><g class=\"x\"><path class=\"xgrid crisp\" transform=\"translate(202.73000000000002,0)\" d=\"M0,100v270\" style=\"stroke: rgb(255, 255, 255); stroke-opacity: 1; stroke-width: 1px;\"/><path class=\"xgrid crisp\" transform=\"translate(300.90999999999997,0)\" d=\"M0,100v270\" style=\"stroke: rgb(255, 255, 255); stroke-opacity: 1; stroke-width: 1px;\"/><path class=\"xgrid crisp\" transform=\"translate(399.09,0)\" d=\"M0,100v270\" style=\"stroke: rgb(255, 255, 255); stroke-opacity: 1; stroke-width: 1px;\"/><path class=\"xgrid crisp\" transform=\"translate(497.27,0)\" d=\"M0,100v270\" style=\"stroke: rgb(255, 255, 255); stroke-opacity: 1; stroke-width: 1px;\"/><path class=\"xgrid crisp\" transform=\"translate(595.45,0)\" d=\"M0,100v270\" style=\"stroke: rgb(255, 255, 255); stroke-opacity: 1; stroke-width: 1px;\"/></g><g class=\"y\"><path class=\"ygrid crisp\" transform=\"translate(0,320.62)\" d=\"M80,0h540\" style=\"stroke: rgb(255, 255, 255); stroke-opacity: 1; stroke-width: 1px;\"/><path class=\"ygrid crisp\" transform=\"translate(0,272.74)\" d=\"M80,0h540\" style=\"stroke: rgb(255, 255, 255); stroke-opacity: 1; stroke-width: 1px;\"/><path class=\"ygrid crisp\" transform=\"translate(0,224.87)\" d=\"M80,0h540\" style=\"stroke: rgb(255, 255, 255); stroke-opacity: 1; stroke-width: 1px;\"/><path class=\"ygrid crisp\" transform=\"translate(0,176.99)\" d=\"M80,0h540\" style=\"stroke: rgb(255, 255, 255); stroke-opacity: 1; stroke-width: 1px;\"/><path class=\"ygrid crisp\" transform=\"translate(0,129.11)\" d=\"M80,0h540\" style=\"stroke: rgb(255, 255, 255); stroke-opacity: 1; stroke-width: 1px;\"/></g></g><g class=\"zerolinelayer\"><path class=\"xzl zl crisp\" transform=\"translate(104.55,0)\" d=\"M0,100v270\" style=\"stroke: rgb(255, 255, 255); stroke-opacity: 1; stroke-width: 2px;\"/><path class=\"yzl zl crisp\" transform=\"translate(0,368.5)\" d=\"M80,0h540\" style=\"stroke: rgb(255, 255, 255); stroke-opacity: 1; stroke-width: 2px;\"/></g><path class=\"xlines-below\"/><path class=\"ylines-below\"/><g class=\"overlines-below\"/><g class=\"xaxislayer-below\"/><g class=\"yaxislayer-below\"/><g class=\"overaxes-below\"/><g class=\"plot\" transform=\"translate(80, 100)\" clip-path=\"url('#clip43354axyplot')\"><g class=\"barlayer mlayer\"><g class=\"trace bars\" style=\"opacity: 0.6;\"><g class=\"points\"><g class=\"point\"><path d=\"M0,268.5V179.54H49.09V268.5Z\" style=\"vector-effect: non-scaling-stroke; opacity: 1; stroke-width: 1.5px; fill: rgb(64, 224, 208); fill-opacity: 1; stroke: rgb(25, 25, 112); stroke-opacity: 1;\"/></g><g class=\"point\"><path d=\"M49.09,268.5V268.5H98.18V268.5Z\" style=\"vector-effect: non-scaling-stroke; opacity: 1; stroke-width: 0px; fill: rgb(64, 224, 208); fill-opacity: 1; stroke: rgb(25, 25, 112); stroke-opacity: 1;\"/></g><g class=\"point\"><path d=\"M98.18,268.5V264.29H147.27V268.5Z\" style=\"vector-effect: non-scaling-stroke; opacity: 1; stroke-width: 1.5px; fill: rgb(64, 224, 208); fill-opacity: 1; stroke: rgb(25, 25, 112); stroke-opacity: 1;\"/></g><g class=\"point\"><path d=\"M147.27,268.5V263.14H196.36V268.5Z\" style=\"vector-effect: non-scaling-stroke; opacity: 1; stroke-width: 1.5px; fill: rgb(64, 224, 208); fill-opacity: 1; stroke: rgb(25, 25, 112); stroke-opacity: 1;\"/></g><g class=\"point\"><path d=\"M196.36,268.5V258.35H245.45V268.5Z\" style=\"vector-effect: non-scaling-stroke; opacity: 1; stroke-width: 1.5px; fill: rgb(64, 224, 208); fill-opacity: 1; stroke: rgb(25, 25, 112); stroke-opacity: 1;\"/></g><g class=\"point\"><path d=\"M245.45,268.5V249.73H294.55V268.5Z\" style=\"vector-effect: non-scaling-stroke; opacity: 1; stroke-width: 1.5px; fill: rgb(64, 224, 208); fill-opacity: 1; stroke: rgb(25, 25, 112); stroke-opacity: 1;\"/></g><g class=\"point\"><path d=\"M294.55,268.5V231.83H343.64V268.5Z\" style=\"vector-effect: non-scaling-stroke; opacity: 1; stroke-width: 1.5px; fill: rgb(64, 224, 208); fill-opacity: 1; stroke: rgb(25, 25, 112); stroke-opacity: 1;\"/></g><g class=\"point\"><path d=\"M343.64,268.5V201.28H392.73V268.5Z\" style=\"vector-effect: non-scaling-stroke; opacity: 1; stroke-width: 1.5px; fill: rgb(64, 224, 208); fill-opacity: 1; stroke: rgb(25, 25, 112); stroke-opacity: 1;\"/></g><g class=\"point\"><path d=\"M392.73,268.5V112.8H441.82V268.5Z\" style=\"vector-effect: non-scaling-stroke; opacity: 1; stroke-width: 1.5px; fill: rgb(64, 224, 208); fill-opacity: 1; stroke: rgb(25, 25, 112); stroke-opacity: 1;\"/></g><g class=\"point\"><path d=\"M441.82,268.5V13.5H490.91V268.5Z\" style=\"vector-effect: non-scaling-stroke; opacity: 1; stroke-width: 1.5px; fill: rgb(64, 224, 208); fill-opacity: 1; stroke: rgb(25, 25, 112); stroke-opacity: 1;\"/></g><g class=\"point\"><path d=\"M490.91,268.5V221.39H540V268.5Z\" style=\"vector-effect: non-scaling-stroke; opacity: 1; stroke-width: 1.5px; fill: rgb(64, 224, 208); fill-opacity: 1; stroke: rgb(25, 25, 112); stroke-opacity: 1;\"/></g></g></g></g></g><g class=\"overplot\"/><path class=\"xlines-above crisp\" d=\"M79,370.5H620\" style=\"fill: none; stroke-width: 1px; stroke: rgb(255, 255, 255); stroke-opacity: 1;\"/><path class=\"ylines-above crisp\" d=\"M79.5,100V370\" style=\"fill: none; stroke-width: 1px; stroke: rgb(255, 255, 255); stroke-opacity: 1;\"/><g class=\"overlines-above\"/><g class=\"xaxislayer-above\"><g class=\"xtick\"><text text-anchor=\"middle\" x=\"0\" y=\"387.8\" transform=\"translate(104.55,0)\" style=\"font-family: Rockwell; font-size: 14px; fill: rgb(42, 63, 95); fill-opacity: 1; white-space: pre;\">0</text></g><g class=\"xtick\"><text text-anchor=\"middle\" x=\"0\" y=\"387.8\" transform=\"translate(202.73000000000002,0)\" style=\"font-family: Rockwell; font-size: 14px; fill: rgb(42, 63, 95); fill-opacity: 1; white-space: pre;\">1</text></g><g class=\"xtick\"><text text-anchor=\"middle\" x=\"0\" y=\"387.8\" transform=\"translate(300.90999999999997,0)\" style=\"font-family: Rockwell; font-size: 14px; fill: rgb(42, 63, 95); fill-opacity: 1; white-space: pre;\">2</text></g><g class=\"xtick\"><text text-anchor=\"middle\" x=\"0\" y=\"387.8\" transform=\"translate(399.09,0)\" style=\"font-family: Rockwell; font-size: 14px; fill: rgb(42, 63, 95); fill-opacity: 1; white-space: pre;\">3</text></g><g class=\"xtick\"><text text-anchor=\"middle\" x=\"0\" y=\"387.8\" transform=\"translate(497.27,0)\" style=\"font-family: Rockwell; font-size: 14px; fill: rgb(42, 63, 95); fill-opacity: 1; white-space: pre;\">4</text></g><g class=\"xtick\"><text text-anchor=\"middle\" x=\"0\" y=\"387.8\" transform=\"translate(595.45,0)\" style=\"font-family: Rockwell; font-size: 14px; fill: rgb(42, 63, 95); fill-opacity: 1; white-space: pre;\">5</text></g></g><g class=\"yaxislayer-above\"><g class=\"ytick\"><text text-anchor=\"end\" x=\"76.2\" y=\"4.8999999999999995\" transform=\"translate(0,368.5)\" style=\"font-family: Rockwell; font-size: 14px; fill: rgb(42, 63, 95); fill-opacity: 1; white-space: pre;\">0</text></g><g class=\"ytick\"><text text-anchor=\"end\" x=\"76.2\" y=\"4.8999999999999995\" transform=\"translate(0,320.62)\" style=\"font-family: Rockwell; font-size: 14px; fill: rgb(42, 63, 95); fill-opacity: 1; white-space: pre;\">500</text></g><g class=\"ytick\"><text text-anchor=\"end\" x=\"76.2\" y=\"4.8999999999999995\" transform=\"translate(0,272.74)\" style=\"font-family: Rockwell; font-size: 14px; fill: rgb(42, 63, 95); fill-opacity: 1; white-space: pre;\">1000</text></g><g class=\"ytick\"><text text-anchor=\"end\" x=\"76.2\" y=\"4.8999999999999995\" transform=\"translate(0,224.87)\" style=\"font-family: Rockwell; font-size: 14px; fill: rgb(42, 63, 95); fill-opacity: 1; white-space: pre;\">1500</text></g><g class=\"ytick\"><text text-anchor=\"end\" x=\"76.2\" y=\"4.8999999999999995\" transform=\"translate(0,176.99)\" style=\"font-family: Rockwell; font-size: 14px; fill: rgb(42, 63, 95); fill-opacity: 1; white-space: pre;\">2000</text></g><g class=\"ytick\"><text text-anchor=\"end\" x=\"76.2\" y=\"4.8999999999999995\" transform=\"translate(0,129.11)\" style=\"font-family: Rockwell; font-size: 14px; fill: rgb(42, 63, 95); fill-opacity: 1; white-space: pre;\">2500</text></g></g><g class=\"overaxes-above\"/></g></g><g class=\"polarlayer\"/><g class=\"ternarylayer\"/><g class=\"geolayer\"/><g class=\"funnelarealayer\"/><g class=\"pielayer\"/><g class=\"treemaplayer\"/><g class=\"sunburstlayer\"/><g class=\"glimages\"/><defs id=\"topdefs-43354a\"><g class=\"clips\"/></defs><g class=\"layer-above\"><g class=\"imagelayer\"/><g class=\"shapelayer\"><path data-index=\"0\" fill-rule=\"evenodd\" d=\"M450.83,368.5L450.83,119.53\" clip-path=\"url('#clip43354axy')\" style=\"opacity: 1; stroke: rgb(255, 140, 0); stroke-opacity: 1; fill: rgb(0, 0, 0); fill-opacity: 0; stroke-width: 3px;\"/></g></g><g class=\"infolayer\"><g class=\"g-gtitle\"><text class=\"gtitle\" x=\"35\" y=\"50\" text-anchor=\"start\" dy=\"0em\" style=\"font-family: Rockwell; font-size: 25px; fill: rgb(42, 63, 95); opacity: 1; font-weight: normal; white-space: pre;\">USER RATINGS</text></g><g class=\"g-xtitle\"><text class=\"xtitle\" x=\"350\" y=\"415.940625\" text-anchor=\"middle\" style=\"font-family: Rockwell; font-size: 14px; fill: rgb(42, 63, 95); opacity: 1; font-weight: normal; white-space: pre;\">USER RATING</text></g><g class=\"g-ytitle\"/></g></svg>"
      ]
     },
     "metadata": {},
     "output_type": "display_data"
    }
   ],
   "source": [
    "#Visualizing\n",
    "fig = go.Figure(data=[go.Histogram(x = app_store[\"user_rating\"],)])\n",
    "fig.update_traces(marker_color='turquoise', marker_line_color='midnightblue',\n",
    "                  marker_line_width=1.5, opacity=0.6)\n",
    "#fig = go.Figure(data = [go.Histogram(x=app_store[\"user_rating\"])])\n",
    "\n",
    "fig.add_shape(\n",
    "        # Line Vertical\n",
    "        dict(\n",
    "            type=\"line\",\n",
    "            x0=avg_rating,\n",
    "            y0=0,\n",
    "            x1=avg_rating,\n",
    "            y1=2600,\n",
    "            line=dict(\n",
    "                color=\"DarkOrange\",\n",
    "                width=3\n",
    "            )))\n",
    "fig.update_layout(\n",
    "    \n",
    "    title=\"USER RATINGS\",\n",
    "    xaxis=dict(title=\"USER RATING\",titlefont_size=14),\n",
    "    font=dict(\n",
    "        family=\"Rockwell\",\n",
    "        size=18,\n",
    "        \n",
    "    ),\n",
    "    plot_bgcolor=\"whitesmoke\"\n",
    ")\n",
    "fig.update_xaxes(tickangle=0, tickfont=dict(family='Rockwell', size=14))\n",
    "fig.update_yaxes(tickfont=dict(family='Rockwell', size=14))\n",
    "\n",
    "fig.show(renderer=\"svg\")\n",
    "\n"
   ]
  },
  {
   "cell_type": "markdown",
   "metadata": {},
   "source": [
    "The average rating across all the apps is 3.53. From the histogram above, it is clear that the plot is skewed to the left, which indicates that most of the apps have high ratings. Although, some apps have a rating of 0. We'll explore those apps to find the reason for their low ratings."
   ]
  },
  {
   "cell_type": "code",
   "execution_count": 13,
   "metadata": {},
   "outputs": [
    {
     "name": "stdout",
     "output_type": "stream",
     "text": [
      "Number of apps with rating of 0 =  929\n",
      "Number of apps with rating 0 and zero number of ratings =  929\n"
     ]
    }
   ],
   "source": [
    "#Apps with '0' rating\n",
    "rating_0 = app_store[(app_store[\"user_rating\"]==0)].shape[0]\n",
    "print(\"Number of apps with rating of 0 = \",rating_0)\n",
    "\n",
    "#Number of apps with user rating of 0 and with total count of ratings of 0\n",
    "rating_0_tot_0 = app_store[(app_store[\"user_rating\"]==0) & (app_store[\"rating_count_tot\"]==0)].shape[0]\n",
    "print(\"Number of apps with rating 0 and zero number of ratings = \",rating_0_tot_0)\n"
   ]
  },
  {
   "cell_type": "markdown",
   "metadata": {},
   "source": [
    "We can see that apps with zero number of ratings are assigned a rating of 0. So the user rating for the apps ranges from 1 to 5."
   ]
  },
  {
   "cell_type": "markdown",
   "metadata": {},
   "source": [
    "### ANALYZING SIZE AND PRICE\n",
    "\n",
    "App's price and size affects the number of downloads and ratings. Generally, users prefer free apps over priced apps. Even if they prefer priced apps, the app's content should satisfy the users, to obtain high ratings. So ratings largely depends on the price. When it comes to the size, if the app's size is too large, it might be difficult/expensive for the users to download.\n",
    "\n",
    "I'll try to answer the following questions:\n",
    "1. Does the size of an app affect it's rating?\n",
    "2. Does the price of an app affect it's rating?\n",
    "3. Do users prefer free apps over paid apps?\n",
    "4. Do users prefer small-sized app over large-sized app?"
   ]
  },
  {
   "cell_type": "code",
   "execution_count": 14,
   "metadata": {},
   "outputs": [
    {
     "name": "stdout",
     "output_type": "stream",
     "text": [
      "Number of apps with size <= 2000 MB =  7141\n",
      "Number of apps with size > 2000 MB =  56\n"
     ]
    },
    {
     "data": {
      "image/png": "[encoded data removed]",
      "text/plain": [
       "<Figure size 842.4x595.44 with 2 Axes>"
      ]
     },
     "metadata": {},
     "output_type": "display_data"
    }
   ],
   "source": [
    "#Size vs. Rating\n",
    "\n",
    "%matplotlib inline\n",
    "import seaborn as sns\n",
    "\n",
    "\n",
    "\n",
    "sns.set(rc={'figure.figsize':(11.7,8.27)})\n",
    "\n",
    "#Splitting the dataset into two: 1. with size <= 2000 MB 2. With size > 2000 MB\n",
    "size_2000 = app_store[(app_store[\"size_MB\"]<=2000)]\n",
    "print(\"Number of apps with size <= 2000 MB = \", size_2000.shape[0])\n",
    "size_above_2000 = app_store[(app_store[\"size_MB\"]>2000)]\n",
    "print(\"Number of apps with size > 2000 MB = \",size_above_2000.shape[0])\n",
    "#Plotting using seaborn\n",
    "#sns.set(style=\"pastel\")\n",
    "\n",
    "fig, ax = plt.subplots(ncols=2)\n",
    "sns.scatterplot(data=size_2000,x=\"size_MB\", y=\"user_rating\",ax=ax[0])\n",
    "sns.scatterplot(data=size_above_2000,x=\"size_MB\", y=\"user_rating\",ax=ax[1])\n",
    "plt.show()"
   ]
  },
  {
   "cell_type": "code",
   "execution_count": 15,
   "metadata": {},
   "outputs": [
    {
     "name": "stdout",
     "output_type": "stream",
     "text": [
      "Total number of free apps =  4056\n",
      "Total number of paid apps =  3141\n"
     ]
    },
    {
     "data": {
      "image/png": "[encoded data removed]",
      "text/plain": [
       "<Figure size 432x432 with 3 Axes>"
      ]
     },
     "metadata": {},
     "output_type": "display_data"
    },
    {
     "data": {
      "image/png": "[encoded data removed]",
      "text/plain": [
       "<Figure size 432x432 with 3 Axes>"
      ]
     },
     "metadata": {},
     "output_type": "display_data"
    }
   ],
   "source": [
    "#Price vs. Rating\n",
    "\n",
    "#Free apps\n",
    "free = app_store[app_store[\"price\"]==0.00]\n",
    "print(\"Total number of free apps = \",free.shape[0])\n",
    "paid = app_store[app_store[\"price\"]!=0.00]\n",
    "print(\"Total number of paid apps = \",paid.shape[0])\n",
    "\n",
    "#Visualizing\n",
    "sns.set_style(\"darkgrid\")\n",
    "\n",
    "sns.jointplot(data=free,x=\"price\", y=\"user_rating\",kind=\"hex\")\n",
    "sns.jointplot(data=paid,x=\"price\", y=\"user_rating\",kind=\"hex\")\n",
    "plt.show()"
   ]
  },
  {
   "cell_type": "markdown",
   "metadata": {},
   "source": [
    "#### SIZE\n",
    "1. Less than or equal to 2000 MB\n",
    "There are 7141 apps with size less than or equal to 2000 MB. And majority of them have a rating above 2.5. Some have ratings below 2.5. \n",
    "2. Greater than 2000 MB \n",
    "There are 56 apps with size greater than 2000 MB. Surprisingly, these large sized apps don't have ratings below 3. This suggests that large sized apps have high quality content.\n",
    "\n",
    "Overall, the majority of top rated apps range from 0.5 MB to 2000 MB\n",
    "\n",
    "#### PRICE\n",
    "1. Free\n",
    "There are 4056 free apps. And vast majority of free apps have a rating of 4 or 4.5\n",
    "2. Paid\n",
    "There are around 3141 priced apps and majority of them are priced under 30$. Most of them have a rating of 4.5\n",
    "\n",
    "From this, it can be concluded that size and price does not affect the rating."
   ]
  },
  {
   "cell_type": "markdown",
   "metadata": {},
   "source": [
    "### RELATION BETWEEN APP GENRE AND PRICE\n",
    "\n",
    "Choosing the right price determines the success of an app. Overpriced apps with few features could turn off the users even before they donload it. Underpriced apps with more features could lead to loss in your business. Different genres have different price ranges. Finding the right price for your app's genre is crucial to make a profit.\n"
   ]
  },
  {
   "cell_type": "code",
   "execution_count": 16,
   "metadata": {},
   "outputs": [
    {
     "data": {
      "image/png": "[encoded data removed]",
      "text/plain": [
       "<Figure size 842.4x595.44 with 1 Axes>"
      ]
     },
     "metadata": {},
     "output_type": "display_data"
    }
   ],
   "source": [
    "sns.set(rc={'figure.figsize':(11.7,8.27)})\n",
    "ax = sns.stripplot(x=\"price\", y=\"prime_genre\", data=app_store)\n",
    "plt.xticks(rotation=90)\n",
    "plt.show()\n",
    "\n"
   ]
  },
  {
   "cell_type": "code",
   "execution_count": 17,
   "metadata": {},
   "outputs": [
    {
     "data": {
      "text/html": [
       "<div>\n",
       "<style scoped>\n",
       "    .dataframe tbody tr th:only-of-type {\n",
       "        vertical-align: middle;\n",
       "    }\n",
       "\n",
       "    .dataframe tbody tr th {\n",
       "        vertical-align: top;\n",
       "    }\n",
       "\n",
       "    .dataframe thead th {\n",
       "        text-align: right;\n",
       "    }\n",
       "</style>\n",
       "<table border=\"1\" class=\"dataframe\">\n",
       "  <thead>\n",
       "    <tr style=\"text-align: right;\">\n",
       "      <th></th>\n",
       "      <th>id</th>\n",
       "      <th>track_name</th>\n",
       "      <th>size_MB</th>\n",
       "      <th>currency</th>\n",
       "      <th>price</th>\n",
       "      <th>rating_count_tot</th>\n",
       "      <th>user_rating</th>\n",
       "      <th>cont_rating</th>\n",
       "      <th>prime_genre</th>\n",
       "    </tr>\n",
       "  </thead>\n",
       "  <tbody>\n",
       "    <tr>\n",
       "      <td>129</td>\n",
       "      <td>308368164</td>\n",
       "      <td>Proloquo2Go - Symbol-based AAC</td>\n",
       "      <td>690.24</td>\n",
       "      <td>USD</td>\n",
       "      <td>249.99</td>\n",
       "      <td>773</td>\n",
       "      <td>4.0</td>\n",
       "      <td>4+</td>\n",
       "      <td>Education</td>\n",
       "    </tr>\n",
       "    <tr>\n",
       "      <td>1714</td>\n",
       "      <td>551215116</td>\n",
       "      <td>LAMP Words For Life</td>\n",
       "      <td>556.24</td>\n",
       "      <td>USD</td>\n",
       "      <td>299.99</td>\n",
       "      <td>41</td>\n",
       "      <td>4.0</td>\n",
       "      <td>4+</td>\n",
       "      <td>Education</td>\n",
       "    </tr>\n",
       "  </tbody>\n",
       "</table>\n",
       "</div>"
      ],
      "text/plain": [
       "             id                      track_name  size_MB currency   price  \\\n",
       "129   308368164  Proloquo2Go - Symbol-based AAC   690.24      USD  249.99   \n",
       "1714  551215116             LAMP Words For Life   556.24      USD  299.99   \n",
       "\n",
       "      rating_count_tot  user_rating cont_rating prime_genre  \n",
       "129                773          4.0          4+   Education  \n",
       "1714                41          4.0          4+   Education  "
      ]
     },
     "execution_count": 17,
     "metadata": {},
     "output_type": "execute_result"
    }
   ],
   "source": [
    "#Highly priced apps\n",
    "high_price = app_store[app_store[\"price\"]>100]\n",
    "high_price"
   ]
  },
  {
   "cell_type": "markdown",
   "metadata": {},
   "source": [
    "There are only 2 apps that are priced above 100$ and they both belong to the education genre. "
   ]
  }
 ],
 "metadata": {
  "kernelspec": {
   "display_name": "Python 3",
   "language": "python",
   "name": "python3"
  },
  "language_info": {
   "codemirror_mode": {
    "name": "ipython",
    "version": 3
   },
   "file_extension": ".py",
   "mimetype": "text/x-python",
   "name": "python",
   "nbconvert_exporter": "python",
   "pygments_lexer": "ipython3",
   "version": "3.7.4"
  }
 },
 "nbformat": 4,
 "nbformat_minor": 2
}
